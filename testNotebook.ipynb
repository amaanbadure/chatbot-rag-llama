{
 "cells": [
  {
   "cell_type": "code",
   "execution_count": 1,
   "id": "ea261d13-bd18-4cb1-83e6-50f48529d5fa",
   "metadata": {},
   "outputs": [],
   "source": [
    "import chromadb\n",
    "import streamlit as st\n",
    "from dotenv import load_dotenv\n",
    "from PyPDF2 import PdfReader\n",
    "from langchain.text_splitter import CharacterTextSplitter\n",
    "from langchain_community.embeddings import OllamaEmbeddings\n",
    "from langchain.chat_models import ChatOpenAI\n",
    "from langchain.memory import ConversationBufferMemory\n",
    "from langchain.chains import ConversationalRetrievalChain\n",
    "from Template import css, bot_template, user_template\n",
    "from langchain_community.chat_models import ChatOllama\n",
    "from langchain_chroma import Chroma"
   ]
  },
  {
   "cell_type": "code",
   "execution_count": 14,
   "id": "46aa6fa6-65fb-449b-b057-d1d06eb52b44",
   "metadata": {},
   "outputs": [
    {
     "name": "stdout",
     "output_type": "stream",
     "text": [
      "goog-10-k-2023 (1).pdf\n",
      "tsla-20231231-gen.pdf\n",
      "uber-10-k-2023.pdf\n"
     ]
    }
   ],
   "source": [
    "path=\"./documents\"\n",
    "\n",
    "import glob, os\n",
    "os.chdir(path)\n",
    "pdf_docs = []\n",
    "for file in glob.glob(\"*.pdf\"):\n",
    "   print(file)\n",
    "   pdf_docs.append(file)\n",
    "\n",
    "text = \"\"\n",
    "for pdf in pdf_docs:\n",
    "    pdf_reader = PdfReader(pdf)\n",
    "    for page in pdf_reader.pages:\n",
    "        text += page.extract_text()"
   ]
  },
  {
   "cell_type": "code",
   "execution_count": 2,
   "id": "61515fe2-b1b2-4026-8711-d399640903e0",
   "metadata": {},
   "outputs": [
    {
     "name": "stdout",
     "output_type": "stream",
     "text": [
      "Loaded 562 pages from 3 PDFs.\n"
     ]
    }
   ],
   "source": [
    "import os\n",
    "from langchain_community.document_loaders import PyPDFLoader\n",
    "\n",
    "# Directory containing the PDF files\n",
    "pdf_directory = r\"C:\\Users\\Aman Yunus Badure\\Desktop\\alemeno\\documents\"\n",
    "\n",
    "# Get a list of all PDF files in the directory\n",
    "pdf_files = [f for f in os.listdir(pdf_directory) if f.endswith('.pdf')]\n",
    "\n",
    "# Initialize an empty list to hold the pages from all PDFs\n",
    "all_pages = []\n",
    "\n",
    "# Iterate through the list of PDF files and load them\n",
    "for pdf_file in pdf_files:\n",
    "    # Create the full file path\n",
    "    pdf_path = os.path.join(pdf_directory, pdf_file)\n",
    "    \n",
    "    # Load and split the PDF\n",
    "    loader = PyPDFLoader(pdf_path)\n",
    "    pages = loader.load_and_split()\n",
    "    \n",
    "    # Append the pages to the all_pages list\n",
    "    all_pages.extend(pages)\n",
    "\n",
    "# Now all_pages contains the pages from all the PDFs\n",
    "print(f\"Loaded {len(all_pages)} pages from {len(pdf_files)} PDFs.\")"
   ]
  },
  {
   "cell_type": "code",
   "execution_count": 17,
   "id": "5dc4b304-393d-4450-b795-1c76b3335c5f",
   "metadata": {},
   "outputs": [
    {
     "data": {
      "text/plain": [
       "'that are seen to be, substantially similar to or better than ours. These technologies could reduce usage of our products \\nand services, and force us to compete in different ways and expend significant resources to develop and operate equal \\nor better products and services. Competitors’ success in providing compelling products and services or in attracting \\nand retaining users, advertisers, publishers, customers, and content providers could harm our financial condition and \\noperating results. \\nOur ongoing investment in new businesses, products, services, and technologies  is inherently risky, and \\ncould divert management attention and harm our business, financial condition, and operating results. \\nWe have invested and expect to continue to invest in new businesses, products, services,  and technologies in a \\nwide range of industries beyond online advertising. The investments that we are making across our businesses, such \\nas building AI capabilities into new and existing products and services , reflect our ongoing efforts to innovate and \\nprovide products and services that are helpful to users, advertisers, publishers, customers, and content providers . Our \\ninvestments ultimately  may not be commercially viable or may not result in an adequate return of capital and, in \\npursuing new strategies, we may incur unanticipated liabilities. Innovations in our products and services could also \\nresult in changes to user behavior and affect our revenue trends. These endeavors involve significant risks and \\nuncertainties, including diversion of resources and management attention from current operations, different \\nmonetization models, and the use of alternative investment, governance, or compensation structures that may fail to \\nadequately align incentives across the company or otherwise accomplish their objectives.\\nWithin Google Services , we continue to invest heavily in devices , including our smartphones, home devices,  and \\nwearables, which is a highly competitive market  with frequent introduction of new products and services, rapid \\nadoption of technological advancements by competitors, increased market saturation in developed countries, short \\nproduct life cycles, evolving industry standards, continual improvement in performance characteristics, and price and \\nfeature sensitivity on the part of consumers and businesses.  There can be no assurance we will be able to provide \\ndevices  that compete  effectively. \\nWithin Google Cloud , we devote significant resources to develop and deploy our enterprise-ready cloud services, \\nincluding Google Cloud Platform and Google Workspace, and we are advancing our AI platforms and models to \\nsupport these tools and technologies. We are incurring costs to build and maintain infrastructure to support cloud \\ncomputing services, invest in cybersecurity, and hire talent, particularly to support and scale our sales force. At the \\nsame time, our competitors are rapidly developing and deploying cloud-based services. Pricing and delivery models \\nare competitive and constantly evolving, and we may not attain sufficient scale and profitability to achieve our business \\nobjectives. Further, our business with public sector customers may present additional risks, including regulatory \\ncompliance risks. For instance, we may be subject to government audits and cost reviews, and any failure to comply or \\nany deficiencies found may expose us to legal, financial, and/or reputational risks. Evolving laws and regulations may \\nrequire us to make new capital investments, build new products, and seek partners to deliver localized services in \\nother countries, and we may not be able to meet sovereign operating requirements. \\nWithin Other Bets, we are investing significantly in the areas of health, life sciences, and transportation, among \\nothers. These investment areas face intense competition from large, experienced, and well-funded competitors, and'"
      ]
     },
     "execution_count": 17,
     "metadata": {},
     "output_type": "execute_result"
    }
   ],
   "source": [
    "all_pages[20].page_content"
   ]
  },
  {
   "cell_type": "code",
   "execution_count": 3,
   "id": "11cba474-3699-4d6c-8bc9-539f179d4bf6",
   "metadata": {},
   "outputs": [],
   "source": [
    "text_splitter = CharacterTextSplitter(\n",
    "        separator=\"\\n\",\n",
    "        chunk_size=1000,\n",
    "        chunk_overlap=200,\n",
    "        length_function=len\n",
    "    )\n",
    "text_chunks = text_splitter.split_documents(all_pages)"
   ]
  },
  {
   "cell_type": "code",
   "execution_count": 13,
   "id": "0480edc7-8b96-4ef2-bece-6bdfc61befb3",
   "metadata": {},
   "outputs": [
    {
     "name": "stderr",
     "output_type": "stream",
     "text": [
      "C:\\Users\\Aman Yunus Badure\\AppData\\Roaming\\Python\\Python311\\site-packages\\sentence_transformers\\cross_encoder\\CrossEncoder.py:11: TqdmExperimentalWarning: Using `tqdm.autonotebook.tqdm` in notebook mode. Use `tqdm.tqdm` instead to force console mode (e.g. in jupyter console)\n",
      "  from tqdm.autonotebook import tqdm, trange\n"
     ]
    }
   ],
   "source": [
    "from sentence_transformers import SentenceTransformer\n",
    "modelPath = \"./embedding_model\"\n",
    "\n",
    "model = SentenceTransformer('sentence-transformers/all-mpnet-base-v2')\n",
    "model.save(modelPath)\n",
    "embeddings = SentenceTransformer(modelPath)"
   ]
  },
  {
   "cell_type": "code",
   "execution_count": 20,
   "id": "c8e85eeb-33ac-4984-a1a8-8f2c2fd61d3f",
   "metadata": {},
   "outputs": [],
   "source": [
    "from sentence_transformers import SentenceTransformer\n",
    "from typing import List\n",
    "\n",
    "\n",
    "class SentenceEmbeddings:\n",
    "    def __init__(self, modelPath):\n",
    "        self.modelPath=modelPath\n",
    "        self.model = SentenceTransformer(self.modelPath)\n",
    "\n",
    "    def embed_documents(self, texts: List[str]) -> List[List[float]]:\n",
    "        return [self.model.encode(t).tolist() for t in texts]\n",
    "        \n",
    "    def embed_query(self, texts: str) -> List[float]:\n",
    "        return self.embed_documents([texts])[0]\n",
    "\n",
    "modelPath = \"./embedding_model\"\n",
    "embeddings = SentenceEmbeddings(modelPath)"
   ]
  },
  {
   "cell_type": "code",
   "execution_count": 9,
   "id": "af53287e-993e-4a61-bdc9-ef9e7b639bef",
   "metadata": {},
   "outputs": [],
   "source": [
    "client = chromadb.PersistentClient(path=\"./vectorDB\")\n",
    "collection = client.get_or_create_collection(name=\"PDF_Docs_2\")\n",
    "\n",
    "db = Chroma.from_documents(\n",
    "    documents=text_chunks,\n",
    "    collection_name=\"PDF_Docs_2\",\n",
    "    embedding=embeddings,\n",
    "    persist_directory=\"./vectorDB\",\n",
    ")\n"
   ]
  },
  {
   "cell_type": "code",
   "execution_count": 10,
   "id": "1b66dc6c-45da-4cb1-b23d-09a54519eeec",
   "metadata": {},
   "outputs": [],
   "source": [
    "llm = ChatOllama(model=\"llama3\")\n",
    "memory = ConversationBufferMemory(memory_key='chat_history', return_messages=True)\n",
    "conversation_chain = ConversationalRetrievalChain.from_llm(\n",
    "        llm=llm,\n",
    "        retriever=db.as_retriever(),\n",
    "        memory=memory\n",
    "    )"
   ]
  },
  {
   "cell_type": "code",
   "execution_count": 11,
   "id": "0b52bd47-0a48-4b43-b3fe-593cd872f3e6",
   "metadata": {},
   "outputs": [
    {
     "data": {
      "text/plain": [
       "{'question': 'What is the total revenue for Google Search??',\n",
       " 'chat_history': [HumanMessage(content='What is the total revenue for Google Search??'),\n",
       "  AIMessage(content='According to the provided information, the total revenue for Google Search & other properties is:\\n\\nYear Ended December 31,\\n2022: $162,450 million\\n2023: $175,033 million\\n\\nSo, the total revenue increase from 2022 to 2023 is $12.6 billion ($175,033 - $162,450).')],\n",
       " 'answer': 'According to the provided information, the total revenue for Google Search & other properties is:\\n\\nYear Ended December 31,\\n2022: $162,450 million\\n2023: $175,033 million\\n\\nSo, the total revenue increase from 2022 to 2023 is $12.6 billion ($175,033 - $162,450).'}"
      ]
     },
     "execution_count": 11,
     "metadata": {},
     "output_type": "execute_result"
    }
   ],
   "source": [
    "conversation_chain(\"What is the total revenue for Google Search??\")"
   ]
  },
  {
   "cell_type": "code",
   "execution_count": 12,
   "id": "f7e096fb-b898-434e-b683-7d6a04f9e676",
   "metadata": {},
   "outputs": [
    {
     "data": {
      "text/plain": [
       "{'question': 'What are the risk factors associated with Google and Tesla?',\n",
       " 'chat_history': [HumanMessage(content='What is the total revenue for Google Search??'),\n",
       "  AIMessage(content='According to the provided information, the total revenue for Google Search & other properties is:\\n\\nYear Ended December 31,\\n2022: $162,450 million\\n2023: $175,033 million\\n\\nSo, the total revenue increase from 2022 to 2023 is $12.6 billion ($175,033 - $162,450).'),\n",
       "  HumanMessage(content='What are the risk factors associated with Google and Tesla?'),\n",
       "  AIMessage(content=\"I don't know the answer because the provided text is not related to Google, but rather it appears to be a risk factor disclosure for Tesla's securities filings. If you're looking for information on risk factors associated with Google (Alphabet Inc.), I can try to find that information for you!\")],\n",
       " 'answer': \"I don't know the answer because the provided text is not related to Google, but rather it appears to be a risk factor disclosure for Tesla's securities filings. If you're looking for information on risk factors associated with Google (Alphabet Inc.), I can try to find that information for you!\"}"
      ]
     },
     "execution_count": 12,
     "metadata": {},
     "output_type": "execute_result"
    }
   ],
   "source": [
    "conversation_chain(\"What are the risk factors associated with Google and Tesla?\")"
   ]
  },
  {
   "cell_type": "code",
   "execution_count": 14,
   "id": "07c20cce-db16-4461-bd9f-eba67e6a707c",
   "metadata": {},
   "outputs": [
    {
     "data": {
      "text/plain": [
       "{'question': 'What are the risk factors associated with Tesla?',\n",
       " 'chat_history': [HumanMessage(content='What is the total revenue for Google Search??'),\n",
       "  AIMessage(content='According to the provided information, the total revenue for Google Search & other properties is:\\n\\nYear Ended December 31,\\n2022: $162,450 million\\n2023: $175,033 million\\n\\nSo, the total revenue increase from 2022 to 2023 is $12.6 billion ($175,033 - $162,450).'),\n",
       "  HumanMessage(content='What are the risk factors associated with Google and Tesla?'),\n",
       "  AIMessage(content=\"I don't know the answer because the provided text is not related to Google, but rather it appears to be a risk factor disclosure for Tesla's securities filings. If you're looking for information on risk factors associated with Google (Alphabet Inc.), I can try to find that information for you!\"),\n",
       "  HumanMessage(content='Yes I am looking for Google (Alphabet Inc.) and Tesla, Now answer the question :What are the risk factors associated with Google and Tesla?'),\n",
       "  AIMessage(content=\"According to the text, for additional information about competition, see Item 1A Risk Factors of this Annual Report on Form 10-K. This implies that there is a separate section in the report that outlines the specific risk factors associated with Google (Alphabet Inc.). However, without accessing that specific section, I don't know what those risk factors are.\"),\n",
       "  HumanMessage(content='What are the risk factors associated with Tesla?'),\n",
       "  AIMessage(content=\"According to the provided text, some of the risk factors associated with Tesla include:\\n\\n1. Competition for talent: Tesla competes with other companies for talented individuals with expertise in electric vehicles, engineering, and electrical and building construction.\\n2. Negative publicity: Any negative perceptions or publicity related to Tesla may harm its business and make it more difficult to raise additional funds if needed.\\n3. Risk of employees leaving: Employees may leave Tesla due to various factors, such as a competitive labor market for talented individuals with automotive or technology experience, or negative publicity related to the company.\\n4. Risks associated with financing programs: Tesla's various financing programs may be subject to risks related to growth, compliance, residual value, financing, and credit.\\n\\nThese are some of the risk factors that may impact Tesla's business, financial condition, and operating results.\")],\n",
       " 'answer': \"According to the provided text, some of the risk factors associated with Tesla include:\\n\\n1. Competition for talent: Tesla competes with other companies for talented individuals with expertise in electric vehicles, engineering, and electrical and building construction.\\n2. Negative publicity: Any negative perceptions or publicity related to Tesla may harm its business and make it more difficult to raise additional funds if needed.\\n3. Risk of employees leaving: Employees may leave Tesla due to various factors, such as a competitive labor market for talented individuals with automotive or technology experience, or negative publicity related to the company.\\n4. Risks associated with financing programs: Tesla's various financing programs may be subject to risks related to growth, compliance, residual value, financing, and credit.\\n\\nThese are some of the risk factors that may impact Tesla's business, financial condition, and operating results.\"}"
      ]
     },
     "execution_count": 14,
     "metadata": {},
     "output_type": "execute_result"
    }
   ],
   "source": [
    "conversation_chain(\"What are the risk factors associated with Tesla?\")"
   ]
  },
  {
   "cell_type": "code",
   "execution_count": 15,
   "id": "f23e8f83-e14b-48c1-b7ae-c8d7d318ae57",
   "metadata": {},
   "outputs": [
    {
     "data": {
      "text/plain": [
       "{'question': 'What are the risk factors associated with Google that is Alphabet Inc. ?',\n",
       " 'chat_history': [HumanMessage(content='What is the total revenue for Google Search??'),\n",
       "  AIMessage(content='According to the provided information, the total revenue for Google Search & other properties is:\\n\\nYear Ended December 31,\\n2022: $162,450 million\\n2023: $175,033 million\\n\\nSo, the total revenue increase from 2022 to 2023 is $12.6 billion ($175,033 - $162,450).'),\n",
       "  HumanMessage(content='What are the risk factors associated with Google and Tesla?'),\n",
       "  AIMessage(content=\"I don't know the answer because the provided text is not related to Google, but rather it appears to be a risk factor disclosure for Tesla's securities filings. If you're looking for information on risk factors associated with Google (Alphabet Inc.), I can try to find that information for you!\"),\n",
       "  HumanMessage(content='Yes I am looking for Google (Alphabet Inc.) and Tesla, Now answer the question :What are the risk factors associated with Google and Tesla?'),\n",
       "  AIMessage(content=\"According to the text, for additional information about competition, see Item 1A Risk Factors of this Annual Report on Form 10-K. This implies that there is a separate section in the report that outlines the specific risk factors associated with Google (Alphabet Inc.). However, without accessing that specific section, I don't know what those risk factors are.\"),\n",
       "  HumanMessage(content='What are the risk factors associated with Tesla?'),\n",
       "  AIMessage(content=\"According to the provided text, some of the risk factors associated with Tesla include:\\n\\n1. Competition for talent: Tesla competes with other companies for talented individuals with expertise in electric vehicles, engineering, and electrical and building construction.\\n2. Negative publicity: Any negative perceptions or publicity related to Tesla may harm its business and make it more difficult to raise additional funds if needed.\\n3. Risk of employees leaving: Employees may leave Tesla due to various factors, such as a competitive labor market for talented individuals with automotive or technology experience, or negative publicity related to the company.\\n4. Risks associated with financing programs: Tesla's various financing programs may be subject to risks related to growth, compliance, residual value, financing, and credit.\\n\\nThese are some of the risk factors that may impact Tesla's business, financial condition, and operating results.\"),\n",
       "  HumanMessage(content='What are the risk factors associated with Google that is Alphabet Inc. ?'),\n",
       "  AIMessage(content=\"According to the text, for additional information about competition, see Item 1A Risk Factors of this Annual Report on Form 10-K. This implies that there is an item in the report that discusses the risk factors associated with Google (Alphabet Inc.). However, I do not have access to the entire report, so I can't provide you with the specific details of those risk factors.\")],\n",
       " 'answer': \"According to the text, for additional information about competition, see Item 1A Risk Factors of this Annual Report on Form 10-K. This implies that there is an item in the report that discusses the risk factors associated with Google (Alphabet Inc.). However, I do not have access to the entire report, so I can't provide you with the specific details of those risk factors.\"}"
      ]
     },
     "execution_count": 15,
     "metadata": {},
     "output_type": "execute_result"
    }
   ],
   "source": [
    "conversation_chain(\"What are the risk factors associated with Google that is Alphabet Inc. ?\")"
   ]
  },
  {
   "cell_type": "code",
   "execution_count": 18,
   "id": "a9fa21b4-fe7c-4228-97f4-feae88f1a3c8",
   "metadata": {},
   "outputs": [
    {
     "data": {
      "text/plain": [
       "{'question': 'What are the differences in the business of Tesla and Uber?',\n",
       " 'chat_history': [HumanMessage(content='What is the total revenue for Google Search??'),\n",
       "  AIMessage(content='According to the provided information, the total revenue for Google Search & other properties is:\\n\\nYear Ended December 31,\\n2022: $162,450 million\\n2023: $175,033 million\\n\\nSo, the total revenue increase from 2022 to 2023 is $12.6 billion ($175,033 - $162,450).'),\n",
       "  HumanMessage(content='What are the risk factors associated with Google and Tesla?'),\n",
       "  AIMessage(content=\"I don't know the answer because the provided text is not related to Google, but rather it appears to be a risk factor disclosure for Tesla's securities filings. If you're looking for information on risk factors associated with Google (Alphabet Inc.), I can try to find that information for you!\"),\n",
       "  HumanMessage(content='Yes I am looking for Google (Alphabet Inc.) and Tesla, Now answer the question :What are the risk factors associated with Google and Tesla?'),\n",
       "  AIMessage(content=\"According to the text, for additional information about competition, see Item 1A Risk Factors of this Annual Report on Form 10-K. This implies that there is a separate section in the report that outlines the specific risk factors associated with Google (Alphabet Inc.). However, without accessing that specific section, I don't know what those risk factors are.\"),\n",
       "  HumanMessage(content='What are the risk factors associated with Tesla?'),\n",
       "  AIMessage(content=\"According to the provided text, some of the risk factors associated with Tesla include:\\n\\n1. Competition for talent: Tesla competes with other companies for talented individuals with expertise in electric vehicles, engineering, and electrical and building construction.\\n2. Negative publicity: Any negative perceptions or publicity related to Tesla may harm its business and make it more difficult to raise additional funds if needed.\\n3. Risk of employees leaving: Employees may leave Tesla due to various factors, such as a competitive labor market for talented individuals with automotive or technology experience, or negative publicity related to the company.\\n4. Risks associated with financing programs: Tesla's various financing programs may be subject to risks related to growth, compliance, residual value, financing, and credit.\\n\\nThese are some of the risk factors that may impact Tesla's business, financial condition, and operating results.\"),\n",
       "  HumanMessage(content='What are the risk factors associated with Google that is Alphabet Inc. ?'),\n",
       "  AIMessage(content=\"According to the text, for additional information about competition, see Item 1A Risk Factors of this Annual Report on Form 10-K. This implies that there is an item in the report that discusses the risk factors associated with Google (Alphabet Inc.). However, I do not have access to the entire report, so I can't provide you with the specific details of those risk factors.\"),\n",
       "  HumanMessage(content='What are the differences in the business of Tesla and Uber?'),\n",
       "  AIMessage(content=\"Based on the provided context, I can summarize the main differences between the businesses of Tesla and Uber:\\n\\n1. Primary focus:\\n\\t* Tesla is primarily an electric vehicle (EV) manufacturer, with a focus on designing, manufacturing, and selling EVs.\\n\\t* Uber is a technology platform that enables ride-hailing services, food delivery, and other mobility solutions.\\n\\n2. Products/services:\\n\\t* Tesla produces and sells EVs, including cars, SUVs, and trucks.\\n\\t* Uber's main product is its ride-hailing service, which connects riders with drivers. Additionally, it offers food delivery and other services through partnerships with merchants.\\n\\n3. Business model:\\n\\t* Tesla generates revenue primarily from the sale of vehicles, as well as from solar panel installations, energy storage solutions, and software updates for its vehicles.\\n\\t* Uber's main source of revenue is transaction fees generated from ride-hailing bookings, with smaller portions coming from food delivery and other services.\\n\\n4. Operational scope:\\n\\t* Tesla operates in the automotive industry, with a focus on manufacturing and retailing EVs.\\n\\t* Uber operates in the technology and transportation sectors, with a global presence across various markets.\\n\\nIn summary, while both companies operate in the mobility space, Tesla's primary focus is on electric vehicles and energy solutions, whereas Uber's core business is ride-hailing and food delivery.\")],\n",
       " 'answer': \"Based on the provided context, I can summarize the main differences between the businesses of Tesla and Uber:\\n\\n1. Primary focus:\\n\\t* Tesla is primarily an electric vehicle (EV) manufacturer, with a focus on designing, manufacturing, and selling EVs.\\n\\t* Uber is a technology platform that enables ride-hailing services, food delivery, and other mobility solutions.\\n\\n2. Products/services:\\n\\t* Tesla produces and sells EVs, including cars, SUVs, and trucks.\\n\\t* Uber's main product is its ride-hailing service, which connects riders with drivers. Additionally, it offers food delivery and other services through partnerships with merchants.\\n\\n3. Business model:\\n\\t* Tesla generates revenue primarily from the sale of vehicles, as well as from solar panel installations, energy storage solutions, and software updates for its vehicles.\\n\\t* Uber's main source of revenue is transaction fees generated from ride-hailing bookings, with smaller portions coming from food delivery and other services.\\n\\n4. Operational scope:\\n\\t* Tesla operates in the automotive industry, with a focus on manufacturing and retailing EVs.\\n\\t* Uber operates in the technology and transportation sectors, with a global presence across various markets.\\n\\nIn summary, while both companies operate in the mobility space, Tesla's primary focus is on electric vehicles and energy solutions, whereas Uber's core business is ride-hailing and food delivery.\"}"
      ]
     },
     "execution_count": 18,
     "metadata": {},
     "output_type": "execute_result"
    }
   ],
   "source": [
    "conversation_chain(\"What are the differences in the business of Tesla and Uber?\")"
   ]
  }
 ],
 "metadata": {
  "kernelspec": {
   "display_name": "Python 3 (ipykernel)",
   "language": "python",
   "name": "python3"
  },
  "language_info": {
   "codemirror_mode": {
    "name": "ipython",
    "version": 3
   },
   "file_extension": ".py",
   "mimetype": "text/x-python",
   "name": "python",
   "nbconvert_exporter": "python",
   "pygments_lexer": "ipython3",
   "version": "3.11.5"
  }
 },
 "nbformat": 4,
 "nbformat_minor": 5
}
